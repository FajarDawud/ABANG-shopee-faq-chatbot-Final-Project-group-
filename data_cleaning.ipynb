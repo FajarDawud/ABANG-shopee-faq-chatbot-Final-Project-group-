{
 "cells": [
  {
   "cell_type": "code",
   "execution_count": 1,
   "id": "8122d6ef",
   "metadata": {},
   "outputs": [],
   "source": [
    "import pandas as pd"
   ]
  },
  {
   "cell_type": "code",
   "execution_count": 14,
   "id": "e167caf1",
   "metadata": {},
   "outputs": [],
   "source": [
    "df = pd.read_csv('./data/shopee_qna_data_raw.csv')"
   ]
  },
  {
   "cell_type": "code",
   "execution_count": 15,
   "id": "5ea473c0",
   "metadata": {},
   "outputs": [
    {
     "data": {
      "text/html": [
       "<div>\n",
       "<style scoped>\n",
       "    .dataframe tbody tr th:only-of-type {\n",
       "        vertical-align: middle;\n",
       "    }\n",
       "\n",
       "    .dataframe tbody tr th {\n",
       "        vertical-align: top;\n",
       "    }\n",
       "\n",
       "    .dataframe thead th {\n",
       "        text-align: right;\n",
       "    }\n",
       "</style>\n",
       "<table border=\"1\" class=\"dataframe\">\n",
       "  <thead>\n",
       "    <tr style=\"text-align: right;\">\n",
       "      <th></th>\n",
       "      <th>questions</th>\n",
       "      <th>answers</th>\n",
       "    </tr>\n",
       "  </thead>\n",
       "  <tbody>\n",
       "    <tr>\n",
       "      <th>0</th>\n",
       "      <td>[Shopee Live] Apa itu Lelang di Shopee Live?</td>\n",
       "      <td>[Shopee Live] Apa itu Lelang di Shopee Live?Ak...</td>\n",
       "    </tr>\n",
       "    <tr>\n",
       "      <th>1</th>\n",
       "      <td>[Grosir] Apa itu Produk Grosir?</td>\n",
       "      <td>[Grosir] Apa itu Produk Grosir?Produk Grosir m...</td>\n",
       "    </tr>\n",
       "    <tr>\n",
       "      <th>2</th>\n",
       "      <td>[Shopee Barokah] Apa itu Shopee Barokah?</td>\n",
       "      <td>[Shopee Barokah] Apa itu Shopee Barokah?Shopee...</td>\n",
       "    </tr>\n",
       "    <tr>\n",
       "      <th>3</th>\n",
       "      <td>[Baru di Shopee] Siapa Penjual Star atau Star+...</td>\n",
       "      <td>[Baru di Shopee] Siapa Penjual Star atau Star+...</td>\n",
       "    </tr>\n",
       "    <tr>\n",
       "      <th>4</th>\n",
       "      <td>[Shopee Live] Apa saja kategori streaming yang...</td>\n",
       "      <td>[Shopee Live] Apa saja kategori streaming yang...</td>\n",
       "    </tr>\n",
       "  </tbody>\n",
       "</table>\n",
       "</div>"
      ],
      "text/plain": [
       "                                           questions  \\\n",
       "0       [Shopee Live] Apa itu Lelang di Shopee Live?   \n",
       "1                    [Grosir] Apa itu Produk Grosir?   \n",
       "2           [Shopee Barokah] Apa itu Shopee Barokah?   \n",
       "3  [Baru di Shopee] Siapa Penjual Star atau Star+...   \n",
       "4  [Shopee Live] Apa saja kategori streaming yang...   \n",
       "\n",
       "                                             answers  \n",
       "0  [Shopee Live] Apa itu Lelang di Shopee Live?Ak...  \n",
       "1  [Grosir] Apa itu Produk Grosir?Produk Grosir m...  \n",
       "2  [Shopee Barokah] Apa itu Shopee Barokah?Shopee...  \n",
       "3  [Baru di Shopee] Siapa Penjual Star atau Star+...  \n",
       "4  [Shopee Live] Apa saja kategori streaming yang...  "
      ]
     },
     "execution_count": 15,
     "metadata": {},
     "output_type": "execute_result"
    }
   ],
   "source": [
    "df.head()"
   ]
  },
  {
   "cell_type": "code",
   "execution_count": 16,
   "id": "9e75b42f",
   "metadata": {},
   "outputs": [
    {
     "data": {
      "text/html": [
       "<div>\n",
       "<style scoped>\n",
       "    .dataframe tbody tr th:only-of-type {\n",
       "        vertical-align: middle;\n",
       "    }\n",
       "\n",
       "    .dataframe tbody tr th {\n",
       "        vertical-align: top;\n",
       "    }\n",
       "\n",
       "    .dataframe thead th {\n",
       "        text-align: right;\n",
       "    }\n",
       "</style>\n",
       "<table border=\"1\" class=\"dataframe\">\n",
       "  <thead>\n",
       "    <tr style=\"text-align: right;\">\n",
       "      <th></th>\n",
       "      <th>questions</th>\n",
       "      <th>answers</th>\n",
       "      <th>category</th>\n",
       "    </tr>\n",
       "  </thead>\n",
       "  <tbody>\n",
       "    <tr>\n",
       "      <th>0</th>\n",
       "      <td>Apa itu Lelang di Shopee Live?</td>\n",
       "      <td>Aktivitas lelang di Shopee Live memungkinkan A...</td>\n",
       "      <td>Shopee Live</td>\n",
       "    </tr>\n",
       "    <tr>\n",
       "      <th>1</th>\n",
       "      <td>Apa itu Produk Grosir?</td>\n",
       "      <td>Produk Grosir mengacu pada barang yang tersedi...</td>\n",
       "      <td>Grosir</td>\n",
       "    </tr>\n",
       "    <tr>\n",
       "      <th>2</th>\n",
       "      <td>Apa itu Shopee Barokah?</td>\n",
       "      <td>Shopee Barokah merupakan fitur yang disediakan...</td>\n",
       "      <td>Shopee Barokah</td>\n",
       "    </tr>\n",
       "    <tr>\n",
       "      <th>3</th>\n",
       "      <td>Siapa Penjual Star atau Star+ Shopee?</td>\n",
       "      <td>Penjual StarPenjual Star Shopee adalah Penjual...</td>\n",
       "      <td>Baru di Shopee</td>\n",
       "    </tr>\n",
       "    <tr>\n",
       "      <th>4</th>\n",
       "      <td>Apa saja kategori streaming yang dianggap berk...</td>\n",
       "      <td>Untuk memastikan pengalaman yang maksimal bagi...</td>\n",
       "      <td>Shopee Live</td>\n",
       "    </tr>\n",
       "  </tbody>\n",
       "</table>\n",
       "</div>"
      ],
      "text/plain": [
       "                                           questions  \\\n",
       "0                     Apa itu Lelang di Shopee Live?   \n",
       "1                             Apa itu Produk Grosir?   \n",
       "2                            Apa itu Shopee Barokah?   \n",
       "3              Siapa Penjual Star atau Star+ Shopee?   \n",
       "4  Apa saja kategori streaming yang dianggap berk...   \n",
       "\n",
       "                                             answers        category  \n",
       "0  Aktivitas lelang di Shopee Live memungkinkan A...     Shopee Live  \n",
       "1  Produk Grosir mengacu pada barang yang tersedi...          Grosir  \n",
       "2  Shopee Barokah merupakan fitur yang disediakan...  Shopee Barokah  \n",
       "3  Penjual StarPenjual Star Shopee adalah Penjual...  Baru di Shopee  \n",
       "4  Untuk memastikan pengalaman yang maksimal bagi...     Shopee Live  "
      ]
     },
     "execution_count": 16,
     "metadata": {},
     "output_type": "execute_result"
    }
   ],
   "source": [
    "df['category'] = df['questions'].str.extract(r'\\[(.*?)\\]')\n",
    "df['questions'] = df['questions'].str.replace(r'\\[.*?\\]\\s*', '', regex=True)\n",
    "df['answers'] = df['answers'].str.replace(r'\\[.*?\\]\\s*', '', regex=True)\n",
    "df['answers'] = df.apply(lambda row: row['answers'].replace(row['questions'], '').strip(), axis=1)\n",
    "\n",
    "df.head()"
   ]
  },
  {
   "cell_type": "code",
   "execution_count": 17,
   "id": "6c891f10",
   "metadata": {},
   "outputs": [
    {
     "name": "stdout",
     "output_type": "stream",
     "text": [
      "<class 'pandas.core.frame.DataFrame'>\n",
      "RangeIndex: 808 entries, 0 to 807\n",
      "Data columns (total 3 columns):\n",
      " #   Column     Non-Null Count  Dtype \n",
      "---  ------     --------------  ----- \n",
      " 0   questions  808 non-null    object\n",
      " 1   answers    808 non-null    object\n",
      " 2   category   668 non-null    object\n",
      "dtypes: object(3)\n",
      "memory usage: 19.1+ KB\n"
     ]
    }
   ],
   "source": [
    "df.info()"
   ]
  },
  {
   "cell_type": "code",
   "execution_count": 18,
   "id": "7cfd2715",
   "metadata": {},
   "outputs": [],
   "source": [
    "df.to_csv('./data/shopee_qna_data_clean.csv', index=False)"
   ]
  }
 ],
 "metadata": {
  "kernelspec": {
   "display_name": "base",
   "language": "python",
   "name": "python3"
  },
  "language_info": {
   "codemirror_mode": {
    "name": "ipython",
    "version": 3
   },
   "file_extension": ".py",
   "mimetype": "text/x-python",
   "name": "python",
   "nbconvert_exporter": "python",
   "pygments_lexer": "ipython3",
   "version": "3.9.21"
  }
 },
 "nbformat": 4,
 "nbformat_minor": 5
}
