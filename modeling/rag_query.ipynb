{
  "cells": [
    {
      "cell_type": "code",
      "execution_count": 2,
      "metadata": {
        "id": "6bc5O7rNlks-"
      },
      "outputs": [],
      "source": [
        "# !pip install pymongo[srv]\n",
        "# !pip install sentence-transformers\n",
        "# !pip install langchain_openai\n",
        "# !pip install langchain-community\n",
        "# !pip install langchain huggingface_hub"
      ]
    },
    {
      "cell_type": "code",
      "execution_count": 1,
      "metadata": {
        "id": "ppV6RiWtlN29"
      },
      "outputs": [],
      "source": [
        "from pymongo import MongoClient\n",
        "from langchain.embeddings import HuggingFaceEmbeddings\n",
        "from langchain_openai import ChatOpenAI\n",
        "from langchain.vectorstores import MongoDBAtlasVectorSearch\n",
        "from langchain.chains import RetrievalQA\n",
        "from langchain.llms import HuggingFaceHub\n",
        "from langchain.prompts import PromptTemplate\n",
        "import os\n",
        "\n",
        "import warnings\n",
        "warnings.filterwarnings(\"ignore\")\n",
        "\n",
        "from dotenv import load_dotenv\n",
        "load_dotenv(dotenv_path=\"../.env\")\n",
        "OPENAI_API_KEY = os.getenv(\"OPENAI_API_KEY\")\n",
        "MONGO_DB_URI = os.getenv(\"MONGO_DB_URI\")\n",
        "HF_API_KEY = os.getenv(\"HF_API_KEY\")"
      ]
    },
    {
      "cell_type": "markdown",
      "metadata": {
        "id": "J95SU8M14yXH"
      },
      "source": [
        "# Inisialisasi MongoDB"
      ]
    },
    {
      "cell_type": "code",
      "execution_count": 2,
      "metadata": {
        "id": "cbYsUAp2lVyf"
      },
      "outputs": [],
      "source": [
        "# Membangun koneksi dengan MongoDB\n",
        "# URI mongo db silahkan anda ganti dengan URI dengan URI database mongodb anda yang telah terisi data vectorized shopee qna (cek file rag_vecdb.ipynb)\n",
        "client = MongoClient(MONGO_DB_URI, tls=True)"
      ]
    },
    {
      "cell_type": "code",
      "execution_count": 3,
      "metadata": {
        "id": "UK5QLtx2liT0"
      },
      "outputs": [],
      "source": [
        "# Collection yang berisi data vectorized shopee qna \n",
        "collection = client['shopee']['answer_vec']"
      ]
    },
    {
      "cell_type": "markdown",
      "metadata": {
        "id": "qQp2NMBt47gi"
      },
      "source": [
        "# Inisialisasi Vector Search MongoDB"
      ]
    },
    {
      "cell_type": "code",
      "execution_count": 4,
      "metadata": {
        "colab": {
          "base_uri": "https://localhost:8080/",
          "height": 54
        },
        "id": "OJqkNypklryH",
        "outputId": "c8960d13-f0f0-4cda-a9ff-326459242108"
      },
      "outputs": [],
      "source": [
        "# %%capture\n",
        "\n",
        "# Inisialisasi retriever vector search MongoDB\n",
        "# embedding menggunakan model sentence-transformers/all-MiniLM-L6-v2\n",
        "vectorStore = MongoDBAtlasVectorSearch(\n",
        "    collection, HuggingFaceEmbeddings(model_name=\"sentence-transformers/all-MiniLM-L6-v2\"), index_name='vector_index'\n",
        ")"
      ]
    },
    {
      "cell_type": "markdown",
      "metadata": {
        "id": "uqPuUzSh52rU"
      },
      "source": [
        "# Prompt"
      ]
    },
    {
      "cell_type": "code",
      "execution_count": 5,
      "metadata": {
        "id": "s-v4RTt8544m"
      },
      "outputs": [],
      "source": [
        "# Prompt yang menjadi landasan model untuk menjawab pertanyaan\n",
        "base_prompt = \"Your name is ABANG (Asisten Bot Andalan Ngomongin e-commerce), You work as a customer service representative at Shopee, a leading e-commerce in Indonesia. Your responsibility is to give accurate answers to customer questions. All responses should be in Indonesian and based on data that was already given. Your responses should be polite, professional, and helpful. Don’t answer to any questions or inquiries that are not related to Shopee. And do not explain any application outside shopee\"\n",
        "\n",
        "prompt_template = PromptTemplate(\n",
        "    input_variables=[\"context\", \"question\"],\n",
        "    template= base_prompt + \"\\n\\nContext:\\n{context}\\n\\nPertanyaan: {question}\\nJawaban:\"\n",
        ")"
      ]
    },
    {
      "cell_type": "markdown",
      "metadata": {
        "id": "A63boQEF5V79"
      },
      "source": [
        "# Model LLM HuggingFace Zephyr-7b-beta"
      ]
    },
    {
      "cell_type": "code",
      "execution_count": 6,
      "metadata": {
        "id": "gKby6UBa5fJw"
      },
      "outputs": [],
      "source": [
        "# Silahkan gunakan KEY HuggingFace anda\n",
        "os.environ['HUGGINGFACEHUB_API_TOKEN'] = HF_API_KEY\n",
        "\n",
        "# Definisikan penggunaan model text2text generator HuggingFaceH4/zephyr-7b-beta\n",
        "llm_zephyr = HuggingFaceHub(\n",
        "    repo_id='HuggingFaceH4/zephyr-7b-beta',\n",
        "    model_kwargs={'temperature': 0.7, 'max_new_tokens': 256}\n",
        ")"
      ]
    },
    {
      "cell_type": "code",
      "execution_count": 7,
      "metadata": {
        "id": "jQlQ0knr9w9r"
      },
      "outputs": [],
      "source": [
        "# membuat sistem tanya-jawab berbasis retrieval\n",
        "qa_zephyr = RetrievalQA.from_chain_type(\n",
        "    llm=llm_zephyr,\n",
        "    chain_type='stuff',\n",
        "    retriever=vectorStore.as_retriever(search_type='similarity', search_kwargs={'k': 3}),\n",
        "    chain_type_kwargs={'prompt': prompt_template}\n",
        ")"
      ]
    },
    {
      "cell_type": "markdown",
      "metadata": {
        "id": "zgha-9hvCO6b"
      },
      "source": [
        "### Query Using Zephyr-7b-beta"
      ]
    },
    {
      "cell_type": "code",
      "execution_count": 8,
      "metadata": {
        "id": "CYcC42-KVcdc"
      },
      "outputs": [],
      "source": [
        "def parsing_result (result):\n",
        "  data_list = result['result'].split('\\n')\n",
        "  question = data_list[5].replace(\"Pertanyaan: \", \"\")\n",
        "  answer = data_list[6].replace(\"Jawaban: \", \"\")\n",
        "  return {\n",
        "    \"question\": question,\n",
        "    \"answer\": answer\n",
        "  }"
      ]
    },
    {
      "cell_type": "markdown",
      "metadata": {
        "id": "-O5Lx2x_X1_r"
      },
      "source": [
        "**Positive Case**"
      ]
    },
    {
      "cell_type": "code",
      "execution_count": null,
      "metadata": {
        "colab": {
          "base_uri": "https://localhost:8080/"
        },
        "id": "QwxqQ0Yx92Qv",
        "outputId": "cd43c8fc-e4a7-4f97-ea41-f9985e8a9c06"
      },
      "outputs": [
        {
          "name": "stdout",
          "output_type": "stream",
          "text": [
            "Pertanyaan: Apa itu Lelang di Shopee Live?\n",
            "Jawaban: Lelang di Shopee Live adalah sebuah fitur yang tersedia dalam Shopee Live, yang merupakan fitur streaming video yang memungkinkan penjual untuk menjual produk secara langsung kepada pelanggan melalui live stream. Lelang di Shopee Live menawarkan penawaran-penawaran kepada pelanggan dan mereka akan dapat produk dengan harga yang lebih murah dari harga asli. Fitur ini sangat populer karena memungkinkan penjual untuk melakukan demo produk, menghapus stok tinggi, dan mempercepat jualan produk mereka. Anda bisa mengakses Lelang di Shopee Live melalui menu \"Lelang\" di aplikasi Shopee.\n",
            " \n",
            "Data: Aktivitas lelang di Shopee Live memungkinkan Anda untuk memenangkan penawaran produk yang ditetapkan oleh host/Penjual. Setelah Penjual memulai lelang, Kartu Lelang akan muncul di layar Anda. Kartu ini menunjukkan jenis lelang dan penghitung waktu mundur yang sudah ditentukan oleh Penjual sebagai batas akhir Anda untuk melakukan penawaran.\n"
          ]
        }
      ],
      "source": [
        "question = 'Apa itu Lelang di Shopee Live?'\n",
        "result = qa_zephyr.invoke(question)\n",
        "result = parsing_result(result)\n",
        "print(f'Pertanyaan: {result['question']}')\n",
        "print(f'Jawaban: {result['answer']}')\n",
        "print(' ')\n",
        "print('Data: Aktivitas lelang di Shopee Live memungkinkan Anda untuk memenangkan penawaran produk yang ditetapkan oleh host/Penjual. Setelah Penjual memulai lelang, Kartu Lelang akan muncul di layar Anda. Kartu ini menunjukkan jenis lelang dan penghitung waktu mundur yang sudah ditentukan oleh Penjual sebagai batas akhir Anda untuk melakukan penawaran.')"
      ]
    },
    {
      "cell_type": "code",
      "execution_count": 13,
      "metadata": {
        "colab": {
          "base_uri": "https://localhost:8080/"
        },
        "id": "TSo90WQqBPjh",
        "outputId": "63148f95-f783-4bcc-dd82-5f01f86c3f3f"
      },
      "outputs": [
        {
          "name": "stdout",
          "output_type": "stream",
          "text": [
            "Pertanyaan: Bagaimana cara mengisi saldo ShopeePay melalui SeaBank?\n",
            "Jawaban: Untuk menghilangkan saldo ShopeePay Anda, Silahkan lakukan langkah berikut:\n",
            " \n",
            "Data: Buka Aplikasi SeaBank dan log in ke akun SeaBank > pilih Top Up E-Wallet > pilih ShopeePay, masukkan no. handphone/nama akun tujuan > pilih no. handphone/nama yang telah diisi > masukkan nominal transfer yang diinginkan > pilih Selanjutnya > periksa kembali informasi yang sudah dimasukkan > lalu pilih Konfirmasi dan masukkan PIN.\n"
          ]
        }
      ],
      "source": [
        "question = 'Bagaimana cara mengisi saldo ShopeePay melalui SeaBank?'\n",
        "result = qa_zephyr.invoke(question)\n",
        "result = parsing_result(result)\n",
        "print(f'Pertanyaan: {result['question']}')\n",
        "print(f'Jawaban: {result['answer']}')\n",
        "print(' ')\n",
        "print('Data: Buka Aplikasi SeaBank dan log in ke akun SeaBank > pilih Top Up E-Wallet > pilih ShopeePay, masukkan no. handphone/nama akun tujuan > pilih no. handphone/nama yang telah diisi > masukkan nominal transfer yang diinginkan > pilih Selanjutnya > periksa kembali informasi yang sudah dimasukkan > lalu pilih Konfirmasi dan masukkan PIN.')"
      ]
    },
    {
      "cell_type": "markdown",
      "metadata": {
        "id": "8LCnvExuX4RI"
      },
      "source": [
        "**Negative Case**"
      ]
    },
    {
      "cell_type": "code",
      "execution_count": 15,
      "metadata": {
        "colab": {
          "base_uri": "https://localhost:8080/"
        },
        "id": "nmwiFBJTBenz",
        "outputId": "f74b8ae3-7b71-4cee-98e8-714e23bec1f1"
      },
      "outputs": [
        {
          "name": "stdout",
          "output_type": "stream",
          "text": [
            "Pertanyaan: Bisa ajari aku teknik bela diri?\n",
            "Jawaban: Mohon maaf, kami sebagai layanan pelanggan Shopee hanya menyediakan layanan e-commerce. Teknik bela diri adalah hal yang individu harus merasakan dan menghidupi sendiri. Kami menyarankan Anda untuk melacak berbagai sumber informasi dan belajar secara mandiri untuk meningkatkan kualitas Anda diri. Terima kasih.\n",
            " \n",
            "Data: Tidak ada di QnA\n"
          ]
        }
      ],
      "source": [
        "question = 'Bisa ajari aku teknik bela diri?'\n",
        "result = qa_zephyr.invoke(question)\n",
        "result = parsing_result(result)\n",
        "print(f'Pertanyaan: {result['question']}')\n",
        "print(f'Jawaban: {result['answer']}')\n",
        "print(' ')\n",
        "print('Data: Tidak ada di QnA')"
      ]
    },
    {
      "cell_type": "markdown",
      "metadata": {},
      "source": [
        "Berdasarkan analisa kualitatif untuk hasil RAG Query dengan model `HuggingFaceH4/zephyr-7b-beta` didapatkan kesimpulan sebagai berikut:\n",
        "\n",
        "1. **Apa itu Lelang di Shopee Live?**\n",
        "\n",
        " - Jawaban model LLM: \n",
        "    - Relevan ✅ : Menjelaskan apa itu Shopee Live, dan terdapat fitur lelangnya.\n",
        "    - Kejelasan ✅ : Tutur bahasa yang digunakan nyambung dan dapat dimengerti manusia.\n",
        "    - Kelengkapan ⚠️ : Kurang lengkap karena tidak menyebutkan teknisnya, seperti kartu lelang, dan penghitungan waktu.\n",
        "\n",
        "2. **Bagaimana cara mengisi saldo ShopeePay melalui SeaBank?**\n",
        "\n",
        " - Jawaban model LLM: \n",
        "    - Relevan ❌ : Tidak relevan, jawaban model malah membahas mengenai menghilangkan saldo ShopeePay\n",
        "    - Kejelasan ❌ : -\n",
        "    - Kelengkapan ❌ : -\n",
        "\n",
        "3. **Bisa ajari aku teknik bela diri?**\n",
        "\n",
        " - Jawaban model LLM: \n",
        "    - Relevan ✅ : Menolak permintaan dengan sopan dan menjelaskan bahwa ini di luar cakupan layanan\n",
        "    - Kejelasan ✅ : Tutur bahasa yang digunakan nyambung dan dapat dimengerti manusia."
      ]
    },
    {
      "cell_type": "markdown",
      "metadata": {
        "id": "Kx_xKXHd4-L2"
      },
      "source": [
        "# Model LLM GPT-3.5"
      ]
    },
    {
      "cell_type": "code",
      "execution_count": 16,
      "metadata": {
        "id": "gpAF1AoAmEym"
      },
      "outputs": [],
      "source": [
        "# mendefinisikan model gpt 3.5\n",
        "# silahkan gunakan api key openAI anda\n",
        "llm_gpt = ChatOpenAI(model=\"gpt-3.5-turbo\",\n",
        "                 openai_api_key=OPENAI_API_KEY,\n",
        "                 temperature=0, max_tokens=512)"
      ]
    },
    {
      "cell_type": "code",
      "execution_count": 17,
      "metadata": {
        "id": "8bWtQ4CBnGQq"
      },
      "outputs": [],
      "source": [
        "# membuat sistem tanya-jawab berbasis retrieval\n",
        "qa_gpt = RetrievalQA.from_chain_type(\n",
        "    llm=llm_gpt,\n",
        "    chain_type=\"stuff\",\n",
        "    retriever=vectorStore.as_retriever(search_type=\"similarity\", search_kwargs={\"k\": 3}),\n",
        "    chain_type_kwargs={\"prompt\": prompt_template}\n",
        ")"
      ]
    },
    {
      "cell_type": "markdown",
      "metadata": {
        "id": "gT7lqNjX6m2t"
      },
      "source": [
        "### Query Using GPT-3.5"
      ]
    },
    {
      "cell_type": "markdown",
      "metadata": {
        "id": "OGTkJudGWSbK"
      },
      "source": [
        "**Positive Case**"
      ]
    },
    {
      "cell_type": "code",
      "execution_count": 21,
      "metadata": {
        "colab": {
          "base_uri": "https://localhost:8080/"
        },
        "id": "qKjpEygMXbO-",
        "outputId": "afd78942-7724-4d87-8d1d-b10cf11003cb"
      },
      "outputs": [
        {
          "name": "stdout",
          "output_type": "stream",
          "text": [
            "Pertanyaan: Apa itu Lelang di Shopee Live?\n",
            "Jawaban: Lelang di Shopee Live adalah fitur yang memungkinkan pengguna untuk mengikuti lelang barang secara langsung melalui siaran langsung di aplikasi Shopee. Anda dapat menawar barang yang diinginkan dan menang lelang dengan harga terbaik. Jangan ragu untuk mencoba fitur menarik ini di Shopee Live!\n",
            " \n",
            "Data: Aktivitas lelang di Shopee Live memungkinkan Anda untuk memenangkan penawaran produk yang ditetapkan oleh host/Penjual. Setelah Penjual memulai lelang, Kartu Lelang akan muncul di layar Anda. Kartu ini menunjukkan jenis lelang dan penghitung waktu mundur yang sudah ditentukan oleh Penjual sebagai batas akhir Anda untuk melakukan penawaran.\n"
          ]
        }
      ],
      "source": [
        "question = 'Apa itu Lelang di Shopee Live?'\n",
        "result = qa_gpt.invoke(question)\n",
        "print(f'Pertanyaan: {result['query']}')\n",
        "print(f'Jawaban: {result['result']}')\n",
        "print(' ')\n",
        "print('Data: Aktivitas lelang di Shopee Live memungkinkan Anda untuk memenangkan penawaran produk yang ditetapkan oleh host/Penjual. Setelah Penjual memulai lelang, Kartu Lelang akan muncul di layar Anda. Kartu ini menunjukkan jenis lelang dan penghitung waktu mundur yang sudah ditentukan oleh Penjual sebagai batas akhir Anda untuk melakukan penawaran.')"
      ]
    },
    {
      "cell_type": "code",
      "execution_count": 23,
      "metadata": {
        "colab": {
          "base_uri": "https://localhost:8080/"
        },
        "id": "rcB-e1b7nohy",
        "outputId": "b9984a02-9f2e-47d3-97e8-85b933e77278"
      },
      "outputs": [
        {
          "name": "stdout",
          "output_type": "stream",
          "text": [
            "Pertanyaan: Bagaimana cara mengisi saldo ShopeePay melalui SeaBank?\n",
            "Jawaban: Untuk mengisi saldo ShopeePay melalui SeaBank, Anda dapat mengikuti langkah-langkah berikut:\n",
            "1. Buka aplikasi Shopee dan pilih menu ShopeePay.\n",
            "2. Pilih opsi \"Top Up\" dan pilih metode pembayaran SeaBank.\n",
            "3. Masukkan jumlah saldo yang ingin diisi dan ikuti petunjuk selanjutnya untuk menyelesaikan transaksi.\n",
            "Pastikan Anda memiliki akun SeaBank yang terdaftar dan memiliki saldo yang mencukupi sebelum melakukan pengisian saldo ShopeePay. Jika ada pertanyaan lebih lanjut, jangan ragu untuk menghubungi layanan pelanggan SeaBank atau Shopee. Terima kasih.\n",
            " \n",
            "Data: Buka Aplikasi SeaBank dan log in ke akun SeaBank > pilih Top Up E-Wallet > pilih ShopeePay, masukkan no. handphone/nama akun tujuan > pilih no. handphone/nama yang telah diisi > masukkan nominal transfer yang diinginkan > pilih Selanjutnya > periksa kembali informasi yang sudah dimasukkan > lalu pilih Konfirmasi dan masukkan PIN.\n"
          ]
        }
      ],
      "source": [
        "question = 'Bagaimana cara mengisi saldo ShopeePay melalui SeaBank?'\n",
        "result = qa_gpt.invoke(question)\n",
        "print(f'Pertanyaan: {result['query']}')\n",
        "print(f'Jawaban: {result['result']}')\n",
        "print(' ')\n",
        "print('Data: Buka Aplikasi SeaBank dan log in ke akun SeaBank > pilih Top Up E-Wallet > pilih ShopeePay, masukkan no. handphone/nama akun tujuan > pilih no. handphone/nama yang telah diisi > masukkan nominal transfer yang diinginkan > pilih Selanjutnya > periksa kembali informasi yang sudah dimasukkan > lalu pilih Konfirmasi dan masukkan PIN.')"
      ]
    },
    {
      "cell_type": "markdown",
      "metadata": {},
      "source": [
        "**Negative Case**"
      ]
    },
    {
      "cell_type": "code",
      "execution_count": 24,
      "metadata": {},
      "outputs": [
        {
          "name": "stdout",
          "output_type": "stream",
          "text": [
            "Pertanyaan: Bisa ajari aku teknik bela diri?\n",
            "Jawaban: Maaf, saya hanya dapat membantu dengan pertanyaan yang berkaitan dengan layanan Shopee. Apakah ada yang bisa saya bantu terkait pembelian atau transaksi di Shopee?\n",
            " \n",
            "Data: Tidak ada di QnA\n"
          ]
        }
      ],
      "source": [
        "question = 'Bisa ajari aku teknik bela diri?'\n",
        "result = qa_gpt.invoke(question)\n",
        "print(f'Pertanyaan: {result['query']}')\n",
        "print(f'Jawaban: {result['result']}')\n",
        "print(' ')\n",
        "print('Data: Tidak ada di QnA')"
      ]
    },
    {
      "cell_type": "code",
      "execution_count": 25,
      "metadata": {},
      "outputs": [
        {
          "name": "stdout",
          "output_type": "stream",
          "text": [
            "Pertanyaan: Mengapa ayam menyebrang jalan?\n",
            "Jawaban: Maaf, pertanyaan tersebut tidak terkait dengan layanan Shopee. Apakah ada pertanyaan lain yang bisa saya bantu?\n",
            " \n",
            "Data: Tidak ada di QnA\n"
          ]
        }
      ],
      "source": [
        "question = 'Mengapa ayam menyebrang jalan?'\n",
        "result = qa_gpt.invoke(question)\n",
        "print(f'Pertanyaan: {result['query']}')\n",
        "print(f'Jawaban: {result['result']}')\n",
        "print(' ')\n",
        "print('Data: Tidak ada di QnA')"
      ]
    },
    {
      "cell_type": "markdown",
      "metadata": {},
      "source": [
        "Berdasarkan analisa kualitatif untuk hasil RAG Query dengan model `gpt-3.5-turbo` didapatkan kesimpulan sebagai berikut:\n",
        "\n",
        "1. **Apa itu Lelang di Shopee Live?**\n",
        "\n",
        " - Jawaban model LLM: \n",
        "    - Relevan ✅ : Jawaban berada dalam konteks pertanyaan.\n",
        "    - Kejelasan ✅ : Tutur bahasa yang digunakan nyambung dan dapat dimengerti manusia.\n",
        "    - Kelengkapan ⚠️ : Sama seperti model sebelumnya kurang lengkap karena tidak menyebutkan teknisnya, seperti kartu lelang, dan penghitungan waktu.\n",
        "\n",
        "    Jawaban model bersifat deskriptif umum dan promotif, tapi kehilangan bagian mekanisme teknis. Dari sisi CS (customer service), masih bisa dianggap cukup, namun tidak sekomprehensif data sebenarnya.\n",
        "\n",
        "2. **Bagaimana cara mengisi saldo ShopeePay melalui SeaBank?**\n",
        "\n",
        " - Jawaban model LLM: \n",
        "    - Relevan ✅ : Relevan secara topik.\n",
        "    - Kejelasan ✅ : Step-step yang diberikan jelas dan runut, serta mudah dipahami.\n",
        "    - Kelengkapan ❌ : Step yang diberikan oleh `gpt3.5-turbo` berbeda dengan data actual, dimana data actual memulai step dengan membuka aplikasi SeaBank, sedangkan jawaban model memulai dari aplikasi Shopee.\n",
        "\n",
        "    Model menjawab dengan percaya diri tapi salah prosedur. Di mana model menyusun jawaban yang terdengar logis tapi salah berdasarkan data aktual.\n",
        "\n",
        "3. **Bisa ajari aku teknik bela diri?**\n",
        "\n",
        " - Jawaban model LLM: \n",
        "    - Relevan ✅ : Dengan sopan menolak menjawab karena tidak sesuai layanan.\n",
        "    - Kejelasan ✅ : Singkat, padat, dan sesuai ekspektasi CS.\n",
        "\n",
        "4. **Mengapa ayam menyebrang jalan?**\n",
        "\n",
        " - Jawaban model LLM: \n",
        "    - Relevan ✅ : Menolak dengan baik pertanyaan di luar konteks.\n",
        "    - Kejelasan ✅ : Jelas."
      ]
    },
    {
      "cell_type": "markdown",
      "metadata": {},
      "source": [
        "**Query Lainnya Menggunakan GPT3.5**"
      ]
    },
    {
      "cell_type": "code",
      "execution_count": 14,
      "metadata": {
        "colab": {
          "base_uri": "https://localhost:8080/"
        },
        "id": "vCs6vQ-1n7fC",
        "outputId": "cda66a8a-f125-4870-e1ad-f8f1036ad252"
      },
      "outputs": [
        {
          "data": {
            "text/plain": [
              "{'query': 'Apa itu Shopee Mall?',\n",
              " 'result': 'Shopee Mall adalah fitur di Shopee yang menawarkan produk-produk dari brand resmi dan terpercaya. Produk-produk di Shopee Mall memiliki kualitas yang terjamin dan bisa diandalkan.'}"
            ]
          },
          "execution_count": 14,
          "metadata": {},
          "output_type": "execute_result"
        }
      ],
      "source": [
        "question = 'Apa itu Shopee Mall?'\n",
        "result = qa_gpt.invoke(question)\n",
        "result"
      ]
    },
    {
      "cell_type": "code",
      "execution_count": 15,
      "metadata": {
        "colab": {
          "base_uri": "https://localhost:8080/"
        },
        "id": "MM7tFrsDzGCf",
        "outputId": "308aabb9-fa5e-4c8a-e511-62818ca1f61c"
      },
      "outputs": [
        {
          "data": {
            "text/plain": [
              "{'query': 'Duh kenapa sih saya harus bayar ongkos parkir driver shopee?',\n",
              " 'result': 'Maaf atas ketidaknyamanan yang Anda alami. Ongkos parkir driver Shopee merupakan biaya yang ditanggung oleh pelanggan. Hal ini dilakukan untuk memastikan driver dapat dengan mudah dan cepat mengantarkan pesanan Anda. Terima kasih atas pengertiannya.'}"
            ]
          },
          "execution_count": 15,
          "metadata": {},
          "output_type": "execute_result"
        }
      ],
      "source": [
        "question = 'Duh kenapa sih saya harus bayar ongkos parkir driver shopee?'\n",
        "result = qa_gpt.invoke(question)\n",
        "result"
      ]
    },
    {
      "cell_type": "code",
      "execution_count": 16,
      "metadata": {
        "colab": {
          "base_uri": "https://localhost:8080/"
        },
        "id": "DHI906bOWZoV",
        "outputId": "2d54c201-5c3a-4d3b-cbde-ff6d422c25da"
      },
      "outputs": [
        {
          "data": {
            "text/plain": [
              "{'query': 'Apakah paket COD bisa ditolak?',\n",
              " 'result': 'Maaf, paket COD tidak bisa ditolak setelah pesanan dikonfirmasi. Jika ada masalah dengan pesanan COD, silakan hubungi layanan pelanggan kami untuk bantuan lebih lanjut. Terima kasih.'}"
            ]
          },
          "execution_count": 16,
          "metadata": {},
          "output_type": "execute_result"
        }
      ],
      "source": [
        "question = 'Apakah paket COD bisa ditolak?'\n",
        "result = qa_gpt.invoke(question)\n",
        "result"
      ]
    },
    {
      "cell_type": "code",
      "execution_count": 17,
      "metadata": {
        "colab": {
          "base_uri": "https://localhost:8080/"
        },
        "id": "Nvo0yhDrWo1M",
        "outputId": "682a0eda-932f-48d7-eaa3-4980296895f5"
      },
      "outputs": [
        {
          "data": {
            "text/plain": [
              "{'query': 'Bagaimana prosedur pengembalian barang?',\n",
              " 'result': 'Untuk prosedur pengembalian barang, Anda dapat mengajukan permintaan pengembalian melalui aplikasi Shopee. Setelah permintaan disetujui, Anda dapat mengirimkan barang kembali ke penjual dan akan menerima pengembalian dana sesuai dengan kebijakan pengembalian Shopee. Jangan lupa untuk melampirkan bukti pengiriman saat mengirimkan barang kembali. Terima kasih.'}"
            ]
          },
          "execution_count": 17,
          "metadata": {},
          "output_type": "execute_result"
        }
      ],
      "source": [
        "question = 'Bagaimana prosedur pengembalian barang?'\n",
        "result = qa_gpt.invoke(question)\n",
        "result"
      ]
    },
    {
      "cell_type": "code",
      "execution_count": 18,
      "metadata": {
        "colab": {
          "base_uri": "https://localhost:8080/"
        },
        "id": "2ZBOdICIIztX",
        "outputId": "1d5c4247-7480-4d73-c9de-6da25108a0ee"
      },
      "outputs": [
        {
          "data": {
            "text/plain": [
              "{'query': 'Kapan Indonesia merdeka?',\n",
              " 'result': 'Maaf, pertanyaan tersebut tidak terkait dengan layanan Shopee. Apakah ada pertanyaan lain yang bisa saya bantu?'}"
            ]
          },
          "execution_count": 18,
          "metadata": {},
          "output_type": "execute_result"
        }
      ],
      "source": [
        "question = 'Kapan Indonesia merdeka?'\n",
        "result = qa_gpt.invoke(question)\n",
        "result"
      ]
    },
    {
      "cell_type": "code",
      "execution_count": 19,
      "metadata": {
        "colab": {
          "base_uri": "https://localhost:8080/"
        },
        "id": "yCibunc66UDv",
        "outputId": "331d182b-d38b-4c54-ecb1-30bae9144091"
      },
      "outputs": [
        {
          "data": {
            "text/plain": [
              "{'query': 'Mengapa ayam menyebrang jalan?',\n",
              " 'result': 'Maaf, pertanyaan tersebut tidak terkait dengan layanan Shopee. Apakah ada pertanyaan lain yang bisa saya bantu?'}"
            ]
          },
          "execution_count": 19,
          "metadata": {},
          "output_type": "execute_result"
        }
      ],
      "source": [
        "question = 'Mengapa ayam menyebrang jalan?'\n",
        "result = qa_gpt.invoke(question)\n",
        "result"
      ]
    },
    {
      "cell_type": "code",
      "execution_count": 20,
      "metadata": {
        "colab": {
          "base_uri": "https://localhost:8080/"
        },
        "id": "t6QY-X6Y7oSN",
        "outputId": "1e4acf51-588e-4e66-a181-3a37dee17fe0"
      },
      "outputs": [
        {
          "data": {
            "text/plain": [
              "{'query': 'Kamu tinggal dimana?',\n",
              " 'result': 'Maaf, saya tidak bisa memberikan informasi pribadi saya. Bagaimana saya bisa membantu Anda dengan pertanyaan terkait Shopee?'}"
            ]
          },
          "execution_count": 20,
          "metadata": {},
          "output_type": "execute_result"
        }
      ],
      "source": [
        "question = 'Kamu tinggal dimana?'\n",
        "result = qa_gpt.invoke(question)\n",
        "result"
      ]
    },
    {
      "cell_type": "markdown",
      "metadata": {
        "id": "JaaxwfAzXMlH"
      },
      "source": [
        "# Kesimpulan"
      ]
    },
    {
      "cell_type": "markdown",
      "metadata": {},
      "source": [
        "Berdasarkan hasil eksperimen QnA **positive case** dan **negative case** model `HuggingFaceH4/zephyr-7b-beta` dan `gpt-3.5-turbo`, terlihat bahwa masing-masing model memiliki kekuatan dan kelemahan tersendiri dalam konteks layanan pelanggan e-commerce.\n",
        "\n",
        "**zephyr-7b-beta**\n",
        "  - Kelebihan: Dapat memberikan jawaban yang relevan.\n",
        "  - Kekurangan: Tidak dapat menjelaskan jawaban prosedural.\n",
        "\n",
        "**gpt-3.5-turbo**\n",
        "  - Kelebihan: Juga dapat membarikan jawaban yang relevan dan dapat menjelaskan jawaban yang membutuhkan prosedur tertentu.\n",
        "  - Kekurangan: Ada prosedur yang tidak tepat pada jawaban no 2.\n",
        "\n",
        "  Keduanya bisa dipilih sesuai kebutuhan: Zephyr untuk interaksi ringan, GPT untuk layanan CS yang sering kali membutuhkan jawaban prosedural."
      ]
    }
  ],
  "metadata": {
    "colab": {
      "provenance": [],
      "toc_visible": true
    },
    "kernelspec": {
      "display_name": "base",
      "language": "python",
      "name": "python3"
    },
    "language_info": {
      "codemirror_mode": {
        "name": "ipython",
        "version": 3
      },
      "file_extension": ".py",
      "mimetype": "text/x-python",
      "name": "python",
      "nbconvert_exporter": "python",
      "pygments_lexer": "ipython3",
      "version": "3.12.7"
    }
  },
  "nbformat": 4,
  "nbformat_minor": 0
}
