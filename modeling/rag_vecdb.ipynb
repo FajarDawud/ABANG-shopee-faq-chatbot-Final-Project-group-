{
  "cells": [
    {
      "cell_type": "code",
      "execution_count": 2,
      "metadata": {
        "id": "MiVTX8z4sjHW"
      },
      "outputs": [],
      "source": [
        "# !pip install langchain_community\n",
        "# !pip install pymongo[srv]\n",
        "# !pip install dnspython\n",
        "# !pip install langchain_openai\n",
        "# !pip install sentence-transformers"
      ]
    },
    {
      "cell_type": "code",
      "execution_count": null,
      "metadata": {
        "id": "-ORocR4GF1pW"
      },
      "outputs": [],
      "source": [
        "import pandas as pd\n",
        "from langchain.text_splitter import RecursiveCharacterTextSplitter\n",
        "from langchain.vectorstores import MongoDBAtlasVectorSearch\n",
        "from pymongo.mongo_client import MongoClient\n",
        "from langchain.embeddings import HuggingFaceEmbeddings\n",
        "import os\n",
        "\n",
        "import warnings\n",
        "warnings.filterwarnings(\"ignore\")\n",
        "\n",
        "from dotenv import load_dotenv\n",
        "load_dotenv(dotenv_path=\"../.env\")\n",
        "MONGO_DB_URI = os.getenv(\"MONGO_DB_URI\")"
      ]
    },
    {
      "cell_type": "code",
      "execution_count": 2,
      "metadata": {
        "id": "jeXi5W9-GKjn"
      },
      "outputs": [],
      "source": [
        "df = pd.read_csv('../data/shopee_qna_data_clean.csv')"
      ]
    },
    {
      "cell_type": "code",
      "execution_count": 3,
      "metadata": {
        "colab": {
          "base_uri": "https://localhost:8080/",
          "height": 122
        },
        "id": "K5NCE1VwGqBa",
        "outputId": "28cfeb7c-b80b-4107-fc82-c78c2a1dc889"
      },
      "outputs": [
        {
          "data": {
            "text/plain": [
              "'Aktivitas lelang di Shopee Live memungkinkan Anda untuk memenangkan penawaran produk yang ditetapkan oleh host/Penjual.Setelah Penjual memulai lelang, Kartu Lelang akan muncul di layar Anda. Kartu ini menunjukkan jenis lelang dan penghitung waktu mundur yang sudah ditentukan oleh Penjual sebagai batas akhir Anda untuk melakukan penawaran.Untuk berpartisipasi, pilih Gabung Sekarang setelah kartu lelang berubah menjadi oranye.\\r\\nSetelah Lelang selesai, urutan pemenang dapat dilihat dengan memilih ikon Lelang. Nama pemenang yang dimunculkan hanya 10 orang yang tercepat.\\r\\n️⚠️ Catatan:Beberapa Lelang hanya terbuka untuk Pengikut toko. Ikuti toko untuk berpartisipasi.Pemenang Lelang ditetapkan berdasarkan kecepatan Penawar.Apabila Anda menjadi pemenangnya, Penjual akan menghubungi Anda secara terpisah melalui chat atau sesuai ketentuan yang berlaku dari Penjual.\\r\\nApakah artikel ini berguna?YaTidak'"
            ]
          },
          "execution_count": 3,
          "metadata": {},
          "output_type": "execute_result"
        }
      ],
      "source": [
        "answers_texts = df['answers'].dropna().to_list()\n",
        "answers_texts[0]"
      ]
    },
    {
      "cell_type": "markdown",
      "metadata": {},
      "source": [
        "Code dibawah memecah teks panjang (misalnya dari jawaban chatbot, artikel, dokumen, dsb) menjadi potongan-potongan kecil (chunk) agar bisa lebih mudah diproses dan di-index oleh model berbasis embedding/vector store."
      ]
    },
    {
      "cell_type": "code",
      "execution_count": 4,
      "metadata": {
        "id": "dTlQuVl9Gryj"
      },
      "outputs": [],
      "source": [
        "# proses preprocessing data teks sebelum dimasukkan ke vector store\n",
        "\n",
        "splitter = RecursiveCharacterTextSplitter(chunk_size=1000, chunk_overlap=200)\n",
        "docs = splitter.create_documents(answers_texts)"
      ]
    },
    {
      "cell_type": "code",
      "execution_count": 5,
      "metadata": {
        "colab": {
          "base_uri": "https://localhost:8080/",
          "height": 54
        },
        "id": "xE7fg39cGuB4",
        "outputId": "5ae95e9e-0a7a-44f3-d479-7d7000e07517"
      },
      "outputs": [],
      "source": [
        "# %%capture\n",
        "# proses embedding\n",
        "\n",
        "embeddings = HuggingFaceEmbeddings(model_name=\"sentence-transformers/all-MiniLM-L6-v2\")"
      ]
    },
    {
      "cell_type": "code",
      "execution_count": null,
      "metadata": {
        "id": "ppcG_L-CG1WZ"
      },
      "outputs": [],
      "source": [
        "# Membangun koneksi dengan MongoDB\n",
        "# URI mongo db silahkan anda ganti dengan URI dengan URI database mongodb anda\n",
        "client = MongoClient(MONGO_DB_URI, tls=True)"
      ]
    },
    {
      "cell_type": "code",
      "execution_count": 8,
      "metadata": {
        "id": "2ZQCOF8oHAFQ"
      },
      "outputs": [],
      "source": [
        "collection = client['shopee']['answer_vec']"
      ]
    },
    {
      "cell_type": "markdown",
      "metadata": {},
      "source": [
        "Menyimpan dokumen yang sudah dipotong (docs) ke dalam vector store berbasis MongoDB Atlas"
      ]
    },
    {
      "cell_type": "code",
      "execution_count": null,
      "metadata": {
        "id": "jBsQY6m2HVxs"
      },
      "outputs": [],
      "source": [
        "docsearch = MongoDBAtlasVectorSearch.from_documents(\n",
        "    docs, embeddings, collection=collection, index_name=\"vector_index\"\n",
        ")"
      ]
    }
  ],
  "metadata": {
    "colab": {
      "provenance": []
    },
    "kernelspec": {
      "display_name": "base",
      "language": "python",
      "name": "python3"
    },
    "language_info": {
      "codemirror_mode": {
        "name": "ipython",
        "version": 3
      },
      "file_extension": ".py",
      "mimetype": "text/x-python",
      "name": "python",
      "nbconvert_exporter": "python",
      "pygments_lexer": "ipython3",
      "version": "3.12.7"
    }
  },
  "nbformat": 4,
  "nbformat_minor": 0
}
